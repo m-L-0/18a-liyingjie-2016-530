{
 "cells": [
  {
   "cell_type": "code",
   "execution_count": 25,
   "metadata": {},
   "outputs": [],
   "source": [
    "#import cv2\n",
    "import matplotlib.pyplot as plt  \n",
    "import numpy as np\n",
    "from scipy.io import loadmat"
   ]
  },
  {
   "cell_type": "code",
   "execution_count": 26,
   "metadata": {
    "scrolled": true
   },
   "outputs": [],
   "source": [
    "#给9个类加入标签\n",
    "dt2= loadmat('E:\\\\18b-liyingjie-2016-530\\\\大作业3-SVC\\\\9个类别的数据集-train\\\\data2_train.mat')['data2_train']\n",
    "dt2=np.insert(dt2,0,values=2,axis=1)\n",
    "dt3= loadmat('E:\\\\18b-liyingjie-2016-530\\\\大作业3-SVC\\\\9个类别的数据集-train\\\\data3_train.mat')['data3_train']\n",
    "dt3=np.insert(dt3,0,values=3,axis=1)\n",
    "dt5= loadmat('E:\\\\18b-liyingjie-2016-530\\\\大作业3-SVC\\\\9个类别的数据集-train\\\\data5_train.mat')['data5_train']\n",
    "dt5=np.insert(dt5,0,values=5,axis=1)\n",
    "dt6= loadmat('E:\\\\18b-liyingjie-2016-530\\\\大作业3-SVC\\\\9个类别的数据集-train\\\\data6_train.mat')['data6_train']\n",
    "dt6=np.insert(dt6,0,values=6,axis=1)\n",
    "dt8= loadmat('E:\\\\18b-liyingjie-2016-530\\\\大作业3-SVC\\\\9个类别的数据集-train\\\\data8_train.mat')['data8_train']\n",
    "dt8=np.insert(dt8,0,values=8,axis=1)\n",
    "dt10= loadmat('E:\\\\18b-liyingjie-2016-530\\\\大作业3-SVC\\\\9个类别的数据集-train\\\\data10_train.mat')['data10_train']\n",
    "dt10=np.insert(dt10,0,values=10,axis=1)\n",
    "dt11= loadmat('E:\\\\18b-liyingjie-2016-530\\\\大作业3-SVC\\\\9个类别的数据集-train\\\\data11_train.mat')['data11_train']\n",
    "dt11=np.insert(dt11,0,values=11,axis=1)\n",
    "dt12= loadmat('E:\\\\18b-liyingjie-2016-530\\\\大作业3-SVC\\\\9个类别的数据集-train\\\\data12_train.mat')['data12_train']\n",
    "dt12=np.insert(dt12,0,values=12,axis=1)\n",
    "dt14= loadmat('E:\\\\18b-liyingjie-2016-530\\\\大作业3-SVC\\\\9个类别的数据集-train\\\\data14_train.mat')['data14_train']\n",
    "dt14=np.insert(dt14,0,values=14,axis=1)"
   ]
  },
  {
   "cell_type": "code",
   "execution_count": 27,
   "metadata": {},
   "outputs": [
    {
     "name": "stdout",
     "output_type": "stream",
     "text": [
      "(7546, 201)\n",
      "[[3158 4122 4145 ... 1022 1019 1010]\n",
      " [3023 3737 4027 ... 1019 1008 1004]\n",
      " [2743 4388 4591 ... 1056 1030 1025]\n",
      " ...\n",
      " [2561 3881 4051 ... 1018  998 1015]\n",
      " [2745 4391 4335 ... 1046 1029 1019]\n",
      " [3009 3986 3967 ... 1011 1009 1000]]\n"
     ]
    }
   ],
   "source": [
    "# 将样本合并\n",
    "sample=dt2\n",
    "for i in [dt3,dt3,dt5,dt6,dt8,dt10,dt11,dt12,dt14]:\n",
    "    sample=np.vstack((sample,i))\n",
    "print(sample.shape)\n",
    "#print(train_data)\n",
    "test_data=loadmat('E:\\\\18b-liyingjie-2016-530\\\\大作业3-SVC\\\\data_test_final.mat')['data_test_final']\n",
    "print(test_data)"
   ]
  },
  {
   "cell_type": "code",
   "execution_count": 28,
   "metadata": {},
   "outputs": [
    {
     "name": "stderr",
     "output_type": "stream",
     "text": [
      "D:\\ProgramData\\Anaconda3\\envs\\tensorflow\\lib\\site-packages\\sklearn\\svm\\base.py:196: FutureWarning: The default value of gamma will change from 'auto' to 'scale' in version 0.22 to account better for unscaled features. Set gamma explicitly to 'auto' or 'scale' to avoid this warning.\n",
      "  \"avoid this warning.\", FutureWarning)\n"
     ]
    },
    {
     "data": {
      "text/plain": [
       "0.9567137809187279"
      ]
     },
     "execution_count": 28,
     "metadata": {},
     "output_type": "execute_result"
    }
   ],
   "source": [
    "from sklearn.model_selection import train_test_split\n",
    "\n",
    "# 归一化\n",
    "import pandas as pd\n",
    "\n",
    "data_D=sample[:,1:]\n",
    "data_D=pd.DataFrame(data_D)\n",
    "data_D=(data_D-min(data_D))/(max(data_D)-min(data_D))\n",
    "\n",
    "test_data=pd.DataFrame(test_data)\n",
    "test_data=(test_data-min(test_data))/(max(test_data)-min(test_data))\n",
    "\n",
    "data_L=sample[:,0]\n",
    "data_train, data_test, label_train, label_test = train_test_split(data_D,data_L,test_size=0.3,random_state=33)\n",
    "\n",
    "# 模型训练与拟合\n",
    "from sklearn.svm import SVC\n",
    "from sklearn.metrics import accuracy_score\n",
    "clf = SVC(kernel='rbf',C=130)\n",
    "clf.fit(data_train,label_train)\n",
    "pred = clf.predict(data_test)\n",
    "#验证集出准确度\n",
    "accuracy_score(label_test,pred)"
   ]
  },
  {
   "cell_type": "code",
   "execution_count": 29,
   "metadata": {},
   "outputs": [
    {
     "name": "stdout",
     "output_type": "stream",
     "text": [
      "[12  5  3 ... 14 12  6]\n"
     ]
    }
   ],
   "source": [
    "#预测测试集\n",
    "pred = clf.predict(test_data)\n",
    "print(pred)\n",
    "pred_csv = pd.DataFrame(pred)\n",
    "pred_csv.to_csv('E:\\\\18b-liyingjie-2016-530\\\\大作业3-SVC\\\\test_pred.csv',header=False,index=False)"
   ]
  },
  {
   "cell_type": "code",
   "execution_count": 32,
   "metadata": {},
   "outputs": [
    {
     "data": {
      "image/png": "[encoded data removed]",
      "text/plain": [
       "<Figure size 648x648 with 1 Axes>"
      ]
     },
     "metadata": {
      "needs_background": "light"
     },
     "output_type": "display_data"
    }
   ],
   "source": []
  },
  {
   "cell_type": "code",
   "execution_count": null,
   "metadata": {},
   "outputs": [],
   "source": []
  }
 ],
 "metadata": {
  "kernelspec": {
   "display_name": "Python 3",
   "language": "python",
   "name": "python3"
  },
  "language_info": {
   "codemirror_mode": {
    "name": "ipython",
    "version": 3
   },
   "file_extension": ".py",
   "mimetype": "text/x-python",
   "name": "python",
   "nbconvert_exporter": "python",
   "pygments_lexer": "ipython3",
   "version": "3.5.6"
  }
 },
 "nbformat": 4,
 "nbformat_minor": 2
}
